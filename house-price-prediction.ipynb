{
 "cells": [
  {
   "cell_type": "code",
   "execution_count": 3,
   "id": "ce3b7d04-f71f-4d2b-aa49-55e6cdb1fd71",
   "metadata": {
    "tags": []
   },
   "outputs": [],
   "source": [
    "import pandas as pd\n",
    "import matplotlib.pyplot as plt\n",
    "from tqdm import tqdm\n",
    "from sklearn.linear_model import LinearRegression, Lasso, LassoCV"
   ]
  },
  {
   "cell_type": "markdown",
   "id": "c060497e-24b4-448f-8193-b04fa145f088",
   "metadata": {},
   "source": [
    "# Load data\n",
    "\n",
    "First, we concatenate training and test set to simplify coding required for feature transformation. After transformation, data is again separated to train and test sets."
   ]
  },
  {
   "cell_type": "code",
   "execution_count": 4,
   "id": "02c0ae12-8f34-4abf-ac4f-90ba4725a98b",
   "metadata": {
    "tags": []
   },
   "outputs": [],
   "source": [
    "df_train = pd.read_csv('data/train.csv')\n",
    "df_test = pd.read_csv('data/test.csv')"
   ]
  },
  {
   "cell_type": "code",
   "execution_count": 5,
   "id": "0d7ec145-1119-4f05-810e-38648fc2de44",
   "metadata": {
    "tags": []
   },
   "outputs": [],
   "source": [
    "df_total = pd.concat([df_train, df_test])"
   ]
  },
  {
   "cell_type": "markdown",
   "id": "86a4707f-6eca-44a3-9136-5ad62ac8dbee",
   "metadata": {},
   "source": [
    "# Transform"
   ]
  },
  {
   "cell_type": "markdown",
   "id": "4dc1976d-f36a-48c9-8a26-397f112ba254",
   "metadata": {},
   "source": [
    "## 1. Support function"
   ]
  },
  {
   "cell_type": "code",
   "execution_count": 8,
   "id": "6219eddd-81e9-46b4-948c-3d41eb93f01d",
   "metadata": {
    "tags": []
   },
   "outputs": [],
   "source": [
    "def add_dummies(df, ex=[]):\n",
    "    ''' Convert categorical variables into a set of dummy variables which \n",
    "        hold binary value. One dummy per category will be added to output \n",
    "        dataframe except the NaN value. If original column has no NaN value, \n",
    "        one category will be omitted to avoid multi-collinearity problem.\n",
    "    \n",
    "        param df: input data frame\n",
    "        param ex (list of str): list of excluded columns\n",
    "        \n",
    "        return result: output data frame\n",
    "    '''\n",
    "    def is_category(column_name):\n",
    "        return df[column_name].dtype=='O'\n",
    "    \n",
    "    def get_dummy_vars(column_name):\n",
    "        # to make sure NaN value is the last element and exclude it\n",
    "        return df[col].drop_duplicates().sort_values().to_list()[:-1]\n",
    "    \n",
    "    result = df.copy()\n",
    "    \n",
    "    for col in tqdm(df.columns):\n",
    "        if col in ex or not is_category(col):\n",
    "            continue\n",
    "        else:           \n",
    "            for v in get_dummy_vars(col):\n",
    "                # add column for each distinct value of column\n",
    "                result[str(col) + '.' + str(v)] = result.apply(lambda row: (row[col]==v and row[col]==row[col])*1, axis=1)\n",
    "            \n",
    "            # drop original column\n",
    "            result = result.drop(columns=[col])\n",
    "    return result"
   ]
  },
  {
   "cell_type": "code",
   "execution_count": 23,
   "id": "afb5fa1d-5ccf-46ed-893e-f3b9252199fc",
   "metadata": {
    "tags": []
   },
   "outputs": [],
   "source": [
    "def checkna(dataframe):\n",
    "    \"\"\" print column names in dataframe which have NaN value\n",
    "    \"\"\"\n",
    "    for c in dataframe.columns:\n",
    "        if dataframe[c].isnull().values.any():\n",
    "            print(f'{c}: {dataframe[c].drop_duplicates().to_list()}')"
   ]
  },
  {
   "cell_type": "markdown",
   "id": "5e0a8c48-b9db-46a7-972d-5fa01d81ce75",
   "metadata": {},
   "source": [
    "## 2. Transform"
   ]
  },
  {
   "cell_type": "code",
   "execution_count": 21,
   "id": "ff3593da-60f1-48ad-80ef-8a4db0e18c36",
   "metadata": {
    "tags": []
   },
   "outputs": [
    {
     "name": "stderr",
     "output_type": "stream",
     "text": [
      "100%|███████████████████████████████████████████████████████████████████████████████████| 81/81 [00:08<00:00,  9.89it/s]\n"
     ]
    }
   ],
   "source": [
    "df_dummy = add_dummies(df_total)"
   ]
  },
  {
   "cell_type": "code",
   "execution_count": 25,
   "id": "8877a41c-b018-4b7e-8353-1f1be0b61630",
   "metadata": {
    "tags": []
   },
   "outputs": [],
   "source": [
    "# checkna(df_dummy)"
   ]
  },
  {
   "cell_type": "code",
   "execution_count": 28,
   "id": "d87fd412-47e0-4dc0-8724-8ef6b5379a4f",
   "metadata": {
    "tags": []
   },
   "outputs": [],
   "source": [
    "df_dummy = df_dummy.fillna(0)\n",
    "# checkna(df_dummy)"
   ]
  },
  {
   "cell_type": "code",
   "execution_count": 12,
   "id": "c1f090f7-b202-4a11-8eec-0577a8ef2df4",
   "metadata": {
    "tags": []
   },
   "outputs": [],
   "source": [
    "checkna(df_dummy)"
   ]
  },
  {
   "cell_type": "markdown",
   "id": "f6125268-8fd2-40e7-a3ab-fcdb0000f69f",
   "metadata": {},
   "source": [
    "## 3. Cross-valiation lasso"
   ]
  },
  {
   "cell_type": "code",
   "execution_count": 30,
   "id": "e82f9f94-feae-4c18-b236-b206d660117d",
   "metadata": {},
   "outputs": [],
   "source": [
    "model = LassoCV(cv=10, max_iter=10000)"
   ]
  },
  {
   "cell_type": "code",
   "execution_count": 31,
   "id": "42be5ec8-af51-4a02-a2f1-37607b9db013",
   "metadata": {
    "tags": []
   },
   "outputs": [],
   "source": [
    "# split data\n",
    "y_train = df_dummy.iloc[:1460]['SalePrice'].to_numpy()\n",
    "X_train = df_dummy.iloc[:1460].drop(columns=['SalePrice', 'Id']).to_numpy()\n",
    "y_test = df_dummy.iloc[1460:]['SalePrice'].to_numpy()\n",
    "X_test = df_dummy.iloc[1460:].drop(columns=['SalePrice', 'Id']).to_numpy()"
   ]
  },
  {
   "cell_type": "code",
   "execution_count": 32,
   "id": "6645e818-cf98-4017-8f82-6ce7d36883b2",
   "metadata": {
    "tags": []
   },
   "outputs": [
    {
     "data": {
      "text/html": [
       "<style>#sk-container-id-2 {color: black;background-color: white;}#sk-container-id-2 pre{padding: 0;}#sk-container-id-2 div.sk-toggleable {background-color: white;}#sk-container-id-2 label.sk-toggleable__label {cursor: pointer;display: block;width: 100%;margin-bottom: 0;padding: 0.3em;box-sizing: border-box;text-align: center;}#sk-container-id-2 label.sk-toggleable__label-arrow:before {content: \"▸\";float: left;margin-right: 0.25em;color: #696969;}#sk-container-id-2 label.sk-toggleable__label-arrow:hover:before {color: black;}#sk-container-id-2 div.sk-estimator:hover label.sk-toggleable__label-arrow:before {color: black;}#sk-container-id-2 div.sk-toggleable__content {max-height: 0;max-width: 0;overflow: hidden;text-align: left;background-color: #f0f8ff;}#sk-container-id-2 div.sk-toggleable__content pre {margin: 0.2em;color: black;border-radius: 0.25em;background-color: #f0f8ff;}#sk-container-id-2 input.sk-toggleable__control:checked~div.sk-toggleable__content {max-height: 200px;max-width: 100%;overflow: auto;}#sk-container-id-2 input.sk-toggleable__control:checked~label.sk-toggleable__label-arrow:before {content: \"▾\";}#sk-container-id-2 div.sk-estimator input.sk-toggleable__control:checked~label.sk-toggleable__label {background-color: #d4ebff;}#sk-container-id-2 div.sk-label input.sk-toggleable__control:checked~label.sk-toggleable__label {background-color: #d4ebff;}#sk-container-id-2 input.sk-hidden--visually {border: 0;clip: rect(1px 1px 1px 1px);clip: rect(1px, 1px, 1px, 1px);height: 1px;margin: -1px;overflow: hidden;padding: 0;position: absolute;width: 1px;}#sk-container-id-2 div.sk-estimator {font-family: monospace;background-color: #f0f8ff;border: 1px dotted black;border-radius: 0.25em;box-sizing: border-box;margin-bottom: 0.5em;}#sk-container-id-2 div.sk-estimator:hover {background-color: #d4ebff;}#sk-container-id-2 div.sk-parallel-item::after {content: \"\";width: 100%;border-bottom: 1px solid gray;flex-grow: 1;}#sk-container-id-2 div.sk-label:hover label.sk-toggleable__label {background-color: #d4ebff;}#sk-container-id-2 div.sk-serial::before {content: \"\";position: absolute;border-left: 1px solid gray;box-sizing: border-box;top: 0;bottom: 0;left: 50%;z-index: 0;}#sk-container-id-2 div.sk-serial {display: flex;flex-direction: column;align-items: center;background-color: white;padding-right: 0.2em;padding-left: 0.2em;position: relative;}#sk-container-id-2 div.sk-item {position: relative;z-index: 1;}#sk-container-id-2 div.sk-parallel {display: flex;align-items: stretch;justify-content: center;background-color: white;position: relative;}#sk-container-id-2 div.sk-item::before, #sk-container-id-2 div.sk-parallel-item::before {content: \"\";position: absolute;border-left: 1px solid gray;box-sizing: border-box;top: 0;bottom: 0;left: 50%;z-index: -1;}#sk-container-id-2 div.sk-parallel-item {display: flex;flex-direction: column;z-index: 1;position: relative;background-color: white;}#sk-container-id-2 div.sk-parallel-item:first-child::after {align-self: flex-end;width: 50%;}#sk-container-id-2 div.sk-parallel-item:last-child::after {align-self: flex-start;width: 50%;}#sk-container-id-2 div.sk-parallel-item:only-child::after {width: 0;}#sk-container-id-2 div.sk-dashed-wrapped {border: 1px dashed gray;margin: 0 0.4em 0.5em 0.4em;box-sizing: border-box;padding-bottom: 0.4em;background-color: white;}#sk-container-id-2 div.sk-label label {font-family: monospace;font-weight: bold;display: inline-block;line-height: 1.2em;}#sk-container-id-2 div.sk-label-container {text-align: center;}#sk-container-id-2 div.sk-container {/* jupyter's `normalize.less` sets `[hidden] { display: none; }` but bootstrap.min.css set `[hidden] { display: none !important; }` so we also need the `!important` here to be able to override the default hidden behavior on the sphinx rendered scikit-learn.org. See: https://github.com/scikit-learn/scikit-learn/issues/21755 */display: inline-block !important;position: relative;}#sk-container-id-2 div.sk-text-repr-fallback {display: none;}</style><div id=\"sk-container-id-2\" class=\"sk-top-container\"><div class=\"sk-text-repr-fallback\"><pre>LassoCV(cv=10, max_iter=10000)</pre><b>In a Jupyter environment, please rerun this cell to show the HTML representation or trust the notebook. <br />On GitHub, the HTML representation is unable to render, please try loading this page with nbviewer.org.</b></div><div class=\"sk-container\" hidden><div class=\"sk-item\"><div class=\"sk-estimator sk-toggleable\"><input class=\"sk-toggleable__control sk-hidden--visually\" id=\"sk-estimator-id-2\" type=\"checkbox\" checked><label for=\"sk-estimator-id-2\" class=\"sk-toggleable__label sk-toggleable__label-arrow\">LassoCV</label><div class=\"sk-toggleable__content\"><pre>LassoCV(cv=10, max_iter=10000)</pre></div></div></div></div></div>"
      ],
      "text/plain": [
       "LassoCV(cv=10, max_iter=10000)"
      ]
     },
     "execution_count": 32,
     "metadata": {},
     "output_type": "execute_result"
    }
   ],
   "source": [
    "model.fit(X_train,y_train)"
   ]
  },
  {
   "cell_type": "code",
   "execution_count": 33,
   "id": "2f4e6f20-8448-4567-9498-83cd39da607b",
   "metadata": {
    "tags": []
   },
   "outputs": [
    {
     "data": {
      "text/plain": [
       "0.7236162334166498"
      ]
     },
     "execution_count": 33,
     "metadata": {},
     "output_type": "execute_result"
    }
   ],
   "source": [
    "model.score(X_train,y_train)"
   ]
  },
  {
   "cell_type": "markdown",
   "id": "9c0cfbb2-1599-4a74-bbb8-0acdaab49b7d",
   "metadata": {
    "tags": []
   },
   "source": [
    "## 4. Prediction"
   ]
  },
  {
   "cell_type": "code",
   "execution_count": 34,
   "id": "128c1f93-0c8c-4985-880c-682d64857df5",
   "metadata": {
    "tags": []
   },
   "outputs": [],
   "source": [
    "y_pred = model.predict(X_test)"
   ]
  },
  {
   "cell_type": "code",
   "execution_count": 35,
   "id": "6a8d6e56-a4e3-497f-84a6-cde15c1d0323",
   "metadata": {
    "tags": []
   },
   "outputs": [],
   "source": [
    "prediction = pd.concat([df_dummy[['Id']].iloc[1460:], pd.DataFrame(y_pred, columns=['SalePrice'])], axis=1)"
   ]
  },
  {
   "cell_type": "code",
   "execution_count": 36,
   "id": "2a1d5e62-2f98-451c-a02b-7b25f3869ffc",
   "metadata": {
    "tags": []
   },
   "outputs": [],
   "source": [
    "prediction.to_csv('submission.csv')"
   ]
  },
  {
   "cell_type": "code",
   "execution_count": 37,
   "id": "797554aa-4fd6-4922-a9ae-252615ac0bfb",
   "metadata": {
    "tags": []
   },
   "outputs": [
    {
     "data": {
      "text/html": [
       "<div>\n",
       "<style scoped>\n",
       "    .dataframe tbody tr th:only-of-type {\n",
       "        vertical-align: middle;\n",
       "    }\n",
       "\n",
       "    .dataframe tbody tr th {\n",
       "        vertical-align: top;\n",
       "    }\n",
       "\n",
       "    .dataframe thead th {\n",
       "        text-align: right;\n",
       "    }\n",
       "</style>\n",
       "<table border=\"1\" class=\"dataframe\">\n",
       "  <thead>\n",
       "    <tr style=\"text-align: right;\">\n",
       "      <th></th>\n",
       "      <th>Id</th>\n",
       "      <th>SalePrice</th>\n",
       "    </tr>\n",
       "  </thead>\n",
       "  <tbody>\n",
       "    <tr>\n",
       "      <th>0</th>\n",
       "      <td>1461</td>\n",
       "      <td>144394.020245</td>\n",
       "    </tr>\n",
       "    <tr>\n",
       "      <th>1</th>\n",
       "      <td>1462</td>\n",
       "      <td>173123.700823</td>\n",
       "    </tr>\n",
       "    <tr>\n",
       "      <th>2</th>\n",
       "      <td>1463</td>\n",
       "      <td>199496.579557</td>\n",
       "    </tr>\n",
       "    <tr>\n",
       "      <th>3</th>\n",
       "      <td>1464</td>\n",
       "      <td>198942.948668</td>\n",
       "    </tr>\n",
       "    <tr>\n",
       "      <th>4</th>\n",
       "      <td>1465</td>\n",
       "      <td>171596.115137</td>\n",
       "    </tr>\n",
       "    <tr>\n",
       "      <th>...</th>\n",
       "      <td>...</td>\n",
       "      <td>...</td>\n",
       "    </tr>\n",
       "    <tr>\n",
       "      <th>1454</th>\n",
       "      <td>2915</td>\n",
       "      <td>88922.102005</td>\n",
       "    </tr>\n",
       "    <tr>\n",
       "      <th>1455</th>\n",
       "      <td>2916</td>\n",
       "      <td>110616.750882</td>\n",
       "    </tr>\n",
       "    <tr>\n",
       "      <th>1456</th>\n",
       "      <td>2917</td>\n",
       "      <td>191376.367528</td>\n",
       "    </tr>\n",
       "    <tr>\n",
       "      <th>1457</th>\n",
       "      <td>2918</td>\n",
       "      <td>110341.837753</td>\n",
       "    </tr>\n",
       "    <tr>\n",
       "      <th>1458</th>\n",
       "      <td>2919</td>\n",
       "      <td>237343.250764</td>\n",
       "    </tr>\n",
       "  </tbody>\n",
       "</table>\n",
       "<p>1459 rows × 2 columns</p>\n",
       "</div>"
      ],
      "text/plain": [
       "        Id      SalePrice\n",
       "0     1461  144394.020245\n",
       "1     1462  173123.700823\n",
       "2     1463  199496.579557\n",
       "3     1464  198942.948668\n",
       "4     1465  171596.115137\n",
       "...    ...            ...\n",
       "1454  2915   88922.102005\n",
       "1455  2916  110616.750882\n",
       "1456  2917  191376.367528\n",
       "1457  2918  110341.837753\n",
       "1458  2919  237343.250764\n",
       "\n",
       "[1459 rows x 2 columns]"
      ]
     },
     "execution_count": 37,
     "metadata": {},
     "output_type": "execute_result"
    }
   ],
   "source": [
    "prediction"
   ]
  }
 ],
 "metadata": {
  "kernelspec": {
   "display_name": "Python 3 (ipykernel)",
   "language": "python",
   "name": "python3"
  },
  "language_info": {
   "codemirror_mode": {
    "name": "ipython",
    "version": 3
   },
   "file_extension": ".py",
   "mimetype": "text/x-python",
   "name": "python",
   "nbconvert_exporter": "python",
   "pygments_lexer": "ipython3",
   "version": "3.8.10"
  }
 },
 "nbformat": 4,
 "nbformat_minor": 5
}
